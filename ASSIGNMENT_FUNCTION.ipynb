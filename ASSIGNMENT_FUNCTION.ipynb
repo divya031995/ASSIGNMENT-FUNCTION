{
  "nbformat": 4,
  "nbformat_minor": 0,
  "metadata": {
    "colab": {
      "provenance": []
    },
    "kernelspec": {
      "name": "python3",
      "display_name": "Python 3"
    },
    "language_info": {
      "name": "python"
    }
  },
  "cells": [
    {
      "cell_type": "markdown",
      "source": [
        "#THEORY QUESTIONS"
      ],
      "metadata": {
        "id": "Q4Ahy_aPiw0c"
      }
    },
    {
      "cell_type": "markdown",
      "source": [
        " 1. What is the difference between a function and a method in Python ?\n",
        "\n",
        " - In Python, function and method are quite similar-they both perform actions or calculations- but the key difference lies how they're used and where they're  defined:\n",
        "\n",
        " *A function is a block of reusable code that is defined independently and called by its name. You can define it using the **def** keyword and use it anywhere in your code."
      ],
      "metadata": {
        "id": "vczGZ3CXi4za"
      }
    },
    {
      "cell_type": "code",
      "source": [
        "def great(name):\n",
        "  return f\"Hello, {name}!\""
      ],
      "metadata": {
        "id": "zlKMnfFEpqFu"
      },
      "execution_count": null,
      "outputs": []
    },
    {
      "cell_type": "markdown",
      "source": [
        "* A method is essentially a function that is **associated with an object**. It,s called on a object and can access and modify that object's data. In Python, method are defined inside classes."
      ],
      "metadata": {
        "id": "Lush6xk5p1RA"
      }
    },
    {
      "cell_type": "code",
      "source": [
        "class person:\n",
        "  def greet(self):\n",
        "    return \"hello!\"\n",
        "p = person()\n",
        "p.greet()  # greet is a method"
      ],
      "metadata": {
        "colab": {
          "base_uri": "https://localhost:8080/",
          "height": 36
        },
        "id": "1uUOW6oWqgak",
        "outputId": "25371a0e-bd07-4eaa-b0d8-175a542ff5f2"
      },
      "execution_count": null,
      "outputs": [
        {
          "output_type": "execute_result",
          "data": {
            "text/plain": [
              "'hello!'"
            ],
            "application/vnd.google.colaboratory.intrinsic+json": {
              "type": "string"
            }
          },
          "metadata": {},
          "execution_count": 2
        }
      ]
    },
    {
      "cell_type": "markdown",
      "source": [
        "**All methods are functions, but not all functions are methods**. Methods are just functions that \"belong\" to aclass or object."
      ],
      "metadata": {
        "id": "sMKifUhWrAno"
      }
    },
    {
      "cell_type": "markdown",
      "source": [
        " 2. Explain the concept of functional arguments and parameters in Python ?\n",
        "\n",
        "- In Python, when working with functions, two kwys terms often come up: **parameters** and **arguments**, They're closely related, but not quite the same:\n",
        "\n",
        "  **Parameters**\n",
        " These are the placeholders you define when you create a function. They act like variable that accept values when the function is called.\n",
        "\n",
        " Example:"
      ],
      "metadata": {
        "id": "_KkIAewqrsA9"
      }
    },
    {
      "cell_type": "code",
      "source": [
        "def great(name):  # 'name' is a parameter\n",
        "    print (f\"Hello, {name}!\")"
      ],
      "metadata": {
        "id": "tP05ZmUy0i3K"
      },
      "execution_count": null,
      "outputs": []
    },
    {
      "cell_type": "markdown",
      "source": [
        "**Arguments**\n",
        "These are the actual values you pass to the function when you call it. They get assigned to the corresponding parameters.\n",
        "\n",
        " Example:"
      ],
      "metadata": {
        "id": "m3A0oiB802hV"
      }
    },
    {
      "cell_type": "code",
      "source": [
        "greet(\"divya\")  # \"divya\" is the argument passed to the function"
      ],
      "metadata": {
        "colab": {
          "base_uri": "https://localhost:8080/",
          "height": 146
        },
        "id": "oCCbsxrH1W_Y",
        "outputId": "1269a6c1-252b-490f-c7f5-f68e37673e62"
      },
      "execution_count": null,
      "outputs": [
        {
          "output_type": "error",
          "ename": "NameError",
          "evalue": "name 'greet' is not defined",
          "traceback": [
            "\u001b[0;31m---------------------------------------------------------------------------\u001b[0m",
            "\u001b[0;31mNameError\u001b[0m                                 Traceback (most recent call last)",
            "\u001b[0;32m/tmp/ipython-input-8-100469409.py\u001b[0m in \u001b[0;36m<cell line: 0>\u001b[0;34m()\u001b[0m\n\u001b[0;32m----> 1\u001b[0;31m \u001b[0mgreet\u001b[0m\u001b[0;34m(\u001b[0m\u001b[0;34m\"divya\"\u001b[0m\u001b[0;34m)\u001b[0m  \u001b[0;31m# \"divya\" is the argument passed to the function\u001b[0m\u001b[0;34m\u001b[0m\u001b[0;34m\u001b[0m\u001b[0m\n\u001b[0m",
            "\u001b[0;31mNameError\u001b[0m: name 'greet' is not defined"
          ]
        }
      ]
    },
    {
      "cell_type": "markdown",
      "source": [
        "So you define a function with parameters, and call it with arguments.\n",
        "\n",
        "Python also supports different types of arguments, like:\n",
        "\n",
        "\n",
        "*   **Positonal arguments** (match by order)\n",
        "*  **Keyword arguments** (matched by name)\n",
        "* **Default arguments** (with default values)\n",
        "* **Vaiable-length arguments** (* args and ** kwargs)"
      ],
      "metadata": {
        "id": "xW0X9TNk2pOY"
      }
    },
    {
      "cell_type": "markdown",
      "source": [
        " 3. What are the different ways to define and call afunction in Python?\n",
        "\n",
        " - Python gives you a bunch of ways to define and call functions, depending on what you're to do.\n",
        "\n",
        "** Defining Function**\n",
        "1. Standard function"
      ],
      "metadata": {
        "id": "hTBRoI_L4JC6"
      }
    },
    {
      "cell_type": "code",
      "source": [
        "def greet(name):\n",
        "  return f\"hello, {name}!\""
      ],
      "metadata": {
        "id": "U5DQiEnZ5p88"
      },
      "execution_count": null,
      "outputs": []
    },
    {
      "cell_type": "markdown",
      "source": [
        "2. **Function with Default Arguments**"
      ],
      "metadata": {
        "id": "youWXmxO59UW"
      }
    },
    {
      "cell_type": "code",
      "source": [
        "def greet(name=\"stranger\"):\n",
        "  return f\"hello, {name}!\""
      ],
      "metadata": {
        "id": "ceEe6opy6JIr"
      },
      "execution_count": null,
      "outputs": []
    },
    {
      "cell_type": "markdown",
      "source": [
        "3.**Function with Variable-length arguments**"
      ],
      "metadata": {
        "id": "xxacM9wp6X_T"
      }
    },
    {
      "cell_type": "code",
      "source": [
        "def add_all(*number):\n",
        "  return sum(number)"
      ],
      "metadata": {
        "id": "e9iA0TBx7BbO"
      },
      "execution_count": null,
      "outputs": []
    },
    {
      "cell_type": "markdown",
      "source": [
        "4.**Keyword Variable-length Arguments**"
      ],
      "metadata": {
        "id": "WdZoy7-Q7M3P"
      }
    },
    {
      "cell_type": "code",
      "source": [
        "def print_info(**kwargs):\n",
        "  for key, value in kwargs.items():\n",
        "    print(f\"{key}: {value}\")"
      ],
      "metadata": {
        "id": "_BZH0RNM7eP5"
      },
      "execution_count": null,
      "outputs": []
    },
    {
      "cell_type": "markdown",
      "source": [
        "5. **Lambda**"
      ],
      "metadata": {
        "id": "5zkPR0Xm7n6B"
      }
    },
    {
      "cell_type": "code",
      "source": [
        "square = lambda x: x * x"
      ],
      "metadata": {
        "id": "QVkEJaSX8kDA"
      },
      "execution_count": null,
      "outputs": []
    },
    {
      "cell_type": "markdown",
      "source": [
        "6. **Nested Function**"
      ],
      "metadata": {
        "id": "mKMTmPiR8u4Q"
      }
    },
    {
      "cell_type": "code",
      "source": [
        "def outer():\n",
        "  def inner():\n",
        "    return \"inner says hi!\"\n",
        "    return inner()"
      ],
      "metadata": {
        "id": "G3V8AsUx9Ehc"
      },
      "execution_count": null,
      "outputs": []
    },
    {
      "cell_type": "markdown",
      "source": [
        "7. **Function in a class (Method)**"
      ],
      "metadata": {
        "id": "tuGAuhF-9xtI"
      }
    },
    {
      "cell_type": "code",
      "source": [
        "class greeter:\n",
        "  def greet(self,name):\n",
        "    return f\"hello, {name}!\""
      ],
      "metadata": {
        "id": "K-UoLpBI95rb"
      },
      "execution_count": null,
      "outputs": []
    },
    {
      "cell_type": "markdown",
      "source": [
        "**Calling Functions**\n",
        "\n",
        "1. Positional Arguments"
      ],
      "metadata": {
        "id": "7Um_mOxu-I0k"
      }
    },
    {
      "cell_type": "code",
      "source": [
        "greet(\"alice\")"
      ],
      "metadata": {
        "colab": {
          "base_uri": "https://localhost:8080/",
          "height": 36
        },
        "id": "CigkfdKm-W73",
        "outputId": "b5bddab9-6226-456d-efbd-5966e6de160d"
      },
      "execution_count": null,
      "outputs": [
        {
          "output_type": "execute_result",
          "data": {
            "text/plain": [
              "'hello, alice!'"
            ],
            "application/vnd.google.colaboratory.intrinsic+json": {
              "type": "string"
            }
          },
          "metadata": {},
          "execution_count": 19
        }
      ]
    },
    {
      "cell_type": "markdown",
      "source": [
        "2. **Keyword Arguments**"
      ],
      "metadata": {
        "id": "ThICVk_f-bi-"
      }
    },
    {
      "cell_type": "code",
      "source": [
        "greet(name=\"bob\")"
      ],
      "metadata": {
        "colab": {
          "base_uri": "https://localhost:8080/",
          "height": 36
        },
        "id": "Qd7DaUMB-8Sr",
        "outputId": "b7e04d10-f21c-46e2-dd0d-be8756dfcaa3"
      },
      "execution_count": null,
      "outputs": [
        {
          "output_type": "execute_result",
          "data": {
            "text/plain": [
              "'hello, bob!'"
            ],
            "application/vnd.google.colaboratory.intrinsic+json": {
              "type": "string"
            }
          },
          "metadata": {},
          "execution_count": 20
        }
      ]
    },
    {
      "cell_type": "markdown",
      "source": [
        "3. **Mixing Both (positional first)**"
      ],
      "metadata": {
        "id": "Wu3yIa1k_iJs"
      }
    },
    {
      "cell_type": "code",
      "source": [
        "def info(name, age):\n",
        "  return f\"{name} is {age} years old.\"\n",
        "  info(\"clara\", age=30)"
      ],
      "metadata": {
        "id": "AL6XrkES_sRn"
      },
      "execution_count": null,
      "outputs": []
    },
    {
      "cell_type": "markdown",
      "source": [
        "4.**Unpacking Arguments**"
      ],
      "metadata": {
        "id": "pswVxxcxAPKL"
      }
    },
    {
      "cell_type": "code",
      "source": [
        "args = (\"dave\",)\n",
        "greet(*args)"
      ],
      "metadata": {
        "colab": {
          "base_uri": "https://localhost:8080/",
          "height": 36
        },
        "id": "-oCEuVxIA5vX",
        "outputId": "9e37acf0-1503-48c0-c4b3-10fe5ec1aafa"
      },
      "execution_count": null,
      "outputs": [
        {
          "output_type": "execute_result",
          "data": {
            "text/plain": [
              "'hello, dave!'"
            ],
            "application/vnd.google.colaboratory.intrinsic+json": {
              "type": "string"
            }
          },
          "metadata": {},
          "execution_count": 22
        }
      ]
    },
    {
      "cell_type": "markdown",
      "source": [
        "5. **Calling from a Class**"
      ],
      "metadata": {
        "id": "xmuvDKsDBM4z"
      }
    },
    {
      "cell_type": "code",
      "source": [
        "greeter = greeter()\n",
        "greeter.greet(\"emma\")"
      ],
      "metadata": {
        "colab": {
          "base_uri": "https://localhost:8080/",
          "height": 36
        },
        "id": "IjWQwZnDBIbp",
        "outputId": "f69cb7a3-0f9b-4667-a19c-d80de5fada20"
      },
      "execution_count": null,
      "outputs": [
        {
          "output_type": "execute_result",
          "data": {
            "text/plain": [
              "'hello, emma!'"
            ],
            "application/vnd.google.colaboratory.intrinsic+json": {
              "type": "string"
            }
          },
          "metadata": {},
          "execution_count": 23
        }
      ]
    },
    {
      "cell_type": "markdown",
      "source": [
        "These patterns unlock a ton of flexibility."
      ],
      "metadata": {
        "id": "-8koxvWwCOzX"
      }
    },
    {
      "cell_type": "markdown",
      "source": [
        "4. What is the purpose of the return statement in a Python function ?\n",
        "\n",
        "- The return statement in a Python function is like the grand finale-it sends a result back to whoever called the function. When a function hits return, it immediately stops running and hands over whatever value you've specified.\n",
        "\n",
        "here's a quick example:"
      ],
      "metadata": {
        "id": "IzfsKb3NfQQM"
      }
    },
    {
      "cell_type": "code",
      "source": [
        "def add(a, b):\n",
        "  return a + b"
      ],
      "metadata": {
        "id": "vQzJSMf1pia5"
      },
      "execution_count": null,
      "outputs": []
    },
    {
      "cell_type": "markdown",
      "source": [
        "If u call add(2,3), it will evaluate to 5 because the function returns the result of a + b. Without a return, the function would do the work but stay silent-no result would come back for further use.\n",
        "\n"
      ],
      "metadata": {
        "id": "E-k5ObXTpsF5"
      }
    },
    {
      "cell_type": "markdown",
      "source": [
        "5. What are iterators in Python and how do they differ from iterables ?\n",
        "\n",
        "- In Pyhton, iterators and iterables are closelt related, but they're not quite the same beast.here's how they differ:\n",
        "\n",
        "**Iterables**\n",
        "\n",
        "An iterable is any Python object that can be looped over (you know like in a for loop). Think: lists, tuples, dictionaries-basically, collections. These objects implement a special method called __iter__() that returns an interator."
      ],
      "metadata": {
        "id": "Q6i7_nVprGQj"
      }
    },
    {
      "cell_type": "code",
      "source": [
        "my_list = [1, 2, 3]\n",
        "for item in my_list:\n",
        "  print(item)"
      ],
      "metadata": {
        "colab": {
          "base_uri": "https://localhost:8080/"
        },
        "id": "a_ltyc8A2F8O",
        "outputId": "532c5d5d-4e48-41cc-99b3-289000f78f5d"
      },
      "execution_count": null,
      "outputs": [
        {
          "output_type": "stream",
          "name": "stdout",
          "text": [
            "1\n",
            "2\n",
            "3\n"
          ]
        }
      ]
    },
    {
      "cell_type": "markdown",
      "source": [
        "You don't see the interior directly here, but Python is quietly creating one behind the scences using inter(my_list).\n",
        "\n",
        "**Iterators**\n",
        "\n",
        "An iterator is what you get when you call iter() on an iterable and has a method called __next__() that lets you fetch one item at a time."
      ],
      "metadata": {
        "id": "nbh26Gm62Vow"
      }
    },
    {
      "cell_type": "code",
      "source": [
        "my_iterator = iter(my_list)\n",
        "print(next(my_iterator))  # 1\n",
        "\n",
        "print(next(my_iterator))  # 2"
      ],
      "metadata": {
        "colab": {
          "base_uri": "https://localhost:8080/",
          "height": 200
        },
        "id": "7msDJzc16yxg",
        "outputId": "cddc4b0b-343e-4a0f-8208-6aee58bd5e74"
      },
      "execution_count": null,
      "outputs": [
        {
          "output_type": "error",
          "ename": "NameError",
          "evalue": "name 'my_list' is not defined",
          "traceback": [
            "\u001b[0;31m---------------------------------------------------------------------------\u001b[0m",
            "\u001b[0;31mNameError\u001b[0m                                 Traceback (most recent call last)",
            "\u001b[0;32m/tmp/ipython-input-5-4101219504.py\u001b[0m in \u001b[0;36m<cell line: 0>\u001b[0;34m()\u001b[0m\n\u001b[0;32m----> 1\u001b[0;31m \u001b[0mmy_iterator\u001b[0m \u001b[0;34m=\u001b[0m \u001b[0miter\u001b[0m\u001b[0;34m(\u001b[0m\u001b[0mmy_list\u001b[0m\u001b[0;34m)\u001b[0m\u001b[0;34m\u001b[0m\u001b[0;34m\u001b[0m\u001b[0m\n\u001b[0m\u001b[1;32m      2\u001b[0m \u001b[0mprint\u001b[0m\u001b[0;34m(\u001b[0m\u001b[0mnext\u001b[0m\u001b[0;34m(\u001b[0m\u001b[0mmy_iterator\u001b[0m\u001b[0;34m)\u001b[0m\u001b[0;34m)\u001b[0m  \u001b[0;31m# 1\u001b[0m\u001b[0;34m\u001b[0m\u001b[0;34m\u001b[0m\u001b[0m\n\u001b[1;32m      3\u001b[0m \u001b[0;34m\u001b[0m\u001b[0m\n\u001b[1;32m      4\u001b[0m \u001b[0mprint\u001b[0m\u001b[0;34m(\u001b[0m\u001b[0mnext\u001b[0m\u001b[0;34m(\u001b[0m\u001b[0mmy_iterator\u001b[0m\u001b[0;34m)\u001b[0m\u001b[0;34m)\u001b[0m  \u001b[0;31m# 2\u001b[0m\u001b[0;34m\u001b[0m\u001b[0;34m\u001b[0m\u001b[0m\n",
            "\u001b[0;31mNameError\u001b[0m: name 'my_list' is not defined"
          ]
        }
      ]
    },
    {
      "cell_type": "markdown",
      "source": [
        "Once you reached the end and try to next() again-boom! It raises a stoplteration error.\n",
        "\n",
        "**The Core Difference**\n",
        "\n",
        "* An iterable can be \"looped over\".\n",
        "* An iterator actually does the looping and keeps track of the current position.\n",
        "\n",
        "An easy wat to remember: **iterators do the work**, and **iterables provide the data**."
      ],
      "metadata": {
        "id": "WfLOaTmy7BLS"
      }
    },
    {
      "cell_type": "markdown",
      "source": [
        " 6. Explain the concept of generators in Python and how they are defined ?\n",
        "\n",
        " - Generatore is Python are like function with a memory-they let you iterate over data without storing it all at onve in memory. Instead of returning a whole list, they yield at a time, making them super efficient for handeling large datasets or streams of data.\n",
        "\n",
        " **DEFining a Generator**\n",
        "\n",
        " A generator is defined like a normal function but uses the yield keyord instead of return. Here's a simple exapmle:"
      ],
      "metadata": {
        "id": "c19AFcs8914G"
      }
    },
    {
      "cell_type": "code",
      "source": [
        "def countdown(n):\n",
        "  while n > 0:\n",
        "    yield n\n",
        "    n-=1"
      ],
      "metadata": {
        "id": "r6eLsgp6_1xb"
      },
      "execution_count": null,
      "outputs": []
    },
    {
      "cell_type": "markdown",
      "source": [
        "Calling countdown3 won't run it right away-it returns a generator object. You can then loop through it or fetch values one by one:"
      ],
      "metadata": {
        "id": "xYw-oaKzAchO"
      }
    },
    {
      "cell_type": "code",
      "source": [
        "for number in countdown(3):\n",
        "  print(number)"
      ],
      "metadata": {
        "colab": {
          "base_uri": "https://localhost:8080/"
        },
        "id": "IKOGe2W5ADTB",
        "outputId": "fa1dc0be-bb0a-4e00-ea7b-52b8251c13ab"
      },
      "execution_count": null,
      "outputs": [
        {
          "output_type": "stream",
          "name": "stdout",
          "text": [
            "3\n",
            "2\n",
            "1\n"
          ]
        }
      ]
    },
    {
      "cell_type": "markdown",
      "source": [
        "**Why use generators**?\n",
        "* **Memory-efficient**: No need to store the entire result in memory.\n",
        "* **Lazy evaluation**: Only computers values as needed.\n",
        "* **Composable**: You can build pipeline of generators for efficient data processing.\n",
        "\n",
        "Python also has generator expressions, which are like list comprehensions butwith parentheses:"
      ],
      "metadata": {
        "id": "QEvFbsi3BRU8"
      }
    },
    {
      "cell_type": "code",
      "source": [
        "squares = (x * x for x in range(5))"
      ],
      "metadata": {
        "id": "Z2UNEMfiBNWu"
      },
      "execution_count": null,
      "outputs": []
    },
    {
      "cell_type": "markdown",
      "source": [
        "Generators are one of those Python features that seem small but pack a powerful punch when used right."
      ],
      "metadata": {
        "id": "f4oWAHAxDM0L"
      }
    },
    {
      "cell_type": "markdown",
      "source": [
        " 7. What are the advantages of using generators over regular functions ?\n",
        "\n",
        " - Generators offer some standout advantages over regular functions-especially when you are dealing with large datasets or complex pipelines. Here's why thet shine:\n",
        "\n",
        " 1. **Memory Efficiency**\n",
        "\n",
        " Generators produce one item at a time and don't hold the entire result in memory.\n",
        "\n",
        " Example: Processing a billon lines from a log file? A generator can handle that gracefully, while a regular functions might crash your system.\n",
        "\n",
        " 2. **Lazy Evaluation**\n",
        "\n",
        " Generators compute values on the fly-meaning they only do work when you ask for it. This makes them perfect for scenarios where you don't need all results immediately, or maybe not all of hem all'\n",
        "\n",
        " 3. **Better Performance**\n",
        "\n",
        " Since generators don't compute or store all values up front,they often ru.n faster for operations involving long sequences or early termination (like breaking out pf a loop when a condition is met).\n",
        "\n",
        " 4. **Seamless Iteration**\n",
        "\n",
        " Generators are naturally iterable. You can drop them into a for loop, a comprehension, or anywhere Python expects an iterable, and they just work.\n",
        "\n",
        " 5. **Cleaner code for complex lodic**\n",
        "\n",
        " When you're building custom sequences or infinire streams, using yield can make the logic more elegent and readable than juggling state and indices with lists."
      ],
      "metadata": {
        "id": "Ft5dvUMqDcF0"
      }
    },
    {
      "cell_type": "markdown",
      "source": [
        "8. What is a lambda function in Python and when is it typically used ?\n",
        "\n",
        "- A lambda functions in Python is like a mini function-short anonymous,and built for simplicity. it's defined using the lambda keywords instead of def, and it's typically used for small, throwaway functions that you don't need to name ?\n",
        "\n",
        "- **Syntax**"
      ],
      "metadata": {
        "id": "14cfvD7FIJ5M"
      }
    },
    {
      "cell_type": "code",
      "source": [
        "lambda arguments: expression"
      ],
      "metadata": {
        "colab": {
          "base_uri": "https://localhost:8080/"
        },
        "id": "1SCZiPyNJCvM",
        "outputId": "621970eb-1c8a-4efd-c187-0e2062444eda"
      },
      "execution_count": null,
      "outputs": [
        {
          "output_type": "execute_result",
          "data": {
            "text/plain": [
              "<function __main__.<lambda>(arguments)>"
            ]
          },
          "metadata": {},
          "execution_count": 9
        }
      ]
    },
    {
      "cell_type": "markdown",
      "source": [
        "Here's quick example:"
      ],
      "metadata": {
        "id": "7PdGcgGbJKfd"
      }
    },
    {
      "cell_type": "code",
      "source": [
        "square = lambda x: x * x\n",
        "print(square(5))  # output: 25"
      ],
      "metadata": {
        "colab": {
          "base_uri": "https://localhost:8080/"
        },
        "id": "r3JpvusTJIRJ",
        "outputId": "c539df27-f901-426d-af3e-3def03b4c0af"
      },
      "execution_count": null,
      "outputs": [
        {
          "output_type": "stream",
          "name": "stdout",
          "text": [
            "25\n"
          ]
        }
      ]
    },
    {
      "cell_type": "markdown",
      "source": [
        "This is functionally the same as:"
      ],
      "metadata": {
        "id": "TxJ3A1H3J6la"
      }
    },
    {
      "cell_type": "code",
      "source": [
        "def square(x):\n",
        "    return x * x"
      ],
      "metadata": {
        "id": "WcnbBYRqJzZJ"
      },
      "execution_count": null,
      "outputs": []
    },
    {
      "cell_type": "markdown",
      "source": [
        "**Typical Use Cases**\n",
        "\n",
        "* Sorting or filtering data"
      ],
      "metadata": {
        "id": "gXXnmFobKQxb"
      }
    },
    {
      "cell_type": "code",
      "source": [
        "sorted_list = sorted([('apple', 2), ('banana', 1)], key=lambda x: x[1])"
      ],
      "metadata": {
        "id": "goIfa5CFKLxY"
      },
      "execution_count": null,
      "outputs": []
    },
    {
      "cell_type": "markdown",
      "source": [
        "* **Functional programming tools** like map() , filter() , and reduce()"
      ],
      "metadata": {
        "id": "LgSIl8QULBNR"
      }
    },
    {
      "cell_type": "code",
      "source": [
        "nums = [1, 2, 3]\n",
        "doubled = list(map(lambda x: x * 2, nums))"
      ],
      "metadata": {
        "id": "5c8dM9KbK_Mp"
      },
      "execution_count": null,
      "outputs": []
    },
    {
      "cell_type": "markdown",
      "source": [
        "**Why use Lambda** ?\n",
        "\n",
        "* **Concise**: Great for one-liners.\n",
        "* **Convenient**: No need to define a full function when you just need a simple transformation."
      ],
      "metadata": {
        "id": "5IM3DWTZLh17"
      }
    },
    {
      "cell_type": "markdown",
      "source": [
        "9. Explain the purpose and usage of the map() function in Python ?\n",
        "\n",
        "- The map() function in python is a super handy tool when you want to apply a function to every item in an iterable (like a list tuple) without writing an explicit loop.\n",
        "\n",
        "**Purpose**\n",
        "\n",
        "The main goal of map() is to transform data efficiently. It takes two arguments:\n",
        "\n",
        "1. A function (the operation you want to perform).\n",
        "\n",
        "2. An iterable (like a list, tuple, etc.).\n",
        "\n",
        "It returns a map object (which is an iterator), so if you want to see the results right away, you'll usually wrap it with list().\n",
        "\n",
        "**Basic Usage Example"
      ],
      "metadata": {
        "id": "ct5Pq-vo9yfr"
      }
    },
    {
      "cell_type": "code",
      "source": [
        "# example: squaring each number in a list\n",
        "def square(x):\n",
        "  return x * x\n",
        "numbers = [1, 2, 3, 4, 5]\n",
        "squared = list(map(square, numbers))\n",
        "print(squared)  # output: [1, 4, 9, 16, 25]"
      ],
      "metadata": {
        "colab": {
          "base_uri": "https://localhost:8080/"
        },
        "id": "i-AjvjwuAC8o",
        "outputId": "26d00dfd-7c79-4c27-bd26-79b315372d8b"
      },
      "execution_count": 1,
      "outputs": [
        {
          "output_type": "stream",
          "name": "stdout",
          "text": [
            "[1, 4, 9, 16, 25]\n"
          ]
        }
      ]
    },
    {
      "cell_type": "markdown",
      "source": [
        "You can also use lambad for short, one-off functions:"
      ],
      "metadata": {
        "id": "sqCVU5MZAjGW"
      }
    },
    {
      "cell_type": "code",
      "source": [
        "squared = list(map(lambda x: x * x, numbers))"
      ],
      "metadata": {
        "id": "ezb5JgFlAvSV"
      },
      "execution_count": 2,
      "outputs": []
    },
    {
      "cell_type": "markdown",
      "source": [
        "map() is a part of Python's functional programming family, along with filter() and reduce(), making it super powerful when working with transformations in a clean, readable way."
      ],
      "metadata": {
        "id": "lPqptZnoA3PF"
      }
    },
    {
      "cell_type": "markdown",
      "source": [
        "10. What is the difference between map(), and filter() functions in python?\n",
        "\n",
        "- Thee three functions- map(), filter(), and reduce()- are like the holy trinity of functional programming in python. They each do something a little different, and here's how they stack up:\n",
        "\n",
        "1. map(functional,iterable)\n",
        "* **purpose**: Transforms each item in the iterable using the provided function.\n",
        "* Example:"
      ],
      "metadata": {
        "id": "iOR_HwLHBufM"
      }
    },
    {
      "cell_type": "code",
      "source": [
        "numbers = [1, 2, 3]\n",
        "result = list(map(lambda x: x * 2, numbers))  # [2, 4, 6]"
      ],
      "metadata": {
        "id": "AZ0JoK-9EUem"
      },
      "execution_count": 3,
      "outputs": []
    },
    {
      "cell_type": "markdown",
      "source": [
        "2. filter(function,iterable)\n",
        "* **purpose**: Filters out items for which the functional returns false.\n",
        "\n",
        "* **Example**:\n"
      ],
      "metadata": {
        "id": "vVaBrrS-EpSH"
      }
    },
    {
      "cell_type": "code",
      "source": [
        "numbers = [1, 2, 3, 4]\n",
        "result = list(filter(lambda x: x % 2 == 0, numbers))  # [2, 4]"
      ],
      "metadata": {
        "id": "cQn4rcVSFEQJ"
      },
      "execution_count": 4,
      "outputs": []
    },
    {
      "cell_type": "markdown",
      "source": [
        "3. reduce(function,iterable)\n",
        "* **Purpose**: Applies a rolling computation to sequential pairs and returns a single accumulated value.\n",
        "\n",
        "* **Requires**: Import from funtools\n",
        "* **Example**:"
      ],
      "metadata": {
        "id": "ar-wb6BXFVbt"
      }
    },
    {
      "cell_type": "code",
      "source": [
        "from functools import reduce\n",
        "numbers = [1, 2, 3, 4]\n",
        "result = reduce(lambda x, y: x + y, numbers)  # 10"
      ],
      "metadata": {
        "id": "COye9EBYGCOA"
      },
      "execution_count": 5,
      "outputs": []
    },
    {
      "cell_type": "markdown",
      "source": [
        "**Summary**:\n",
        "map() can  transform each item and map object is convertible to list\n",
        "\n",
        "filter() keep items that pass a condition and filter object is also convertible to list\n",
        "\n",
        "Reduce() combine all items into one value n returns as single value"
      ],
      "metadata": {
        "id": "IvRQHzdNHgLV"
      }
    },
    {
      "cell_type": "markdown",
      "source": [
        "11. Using pen and paper write the internal machanism for sum operation using reduce function on thias given?\n",
        "\n",
        "-![whatsaap image.jpg](data:image/jpeg;base64,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)"
      ],
      "metadata": {
        "id": "LPGG56IkI5bO"
      }
    },
    {
      "cell_type": "markdown",
      "source": [
        "#PRACTICAL QUESTIONS"
      ],
      "metadata": {
        "id": "X-7U2hl0QHJl"
      }
    },
    {
      "cell_type": "markdown",
      "source": [
        "1. Write a python function that takes a list of numbers as input and returns the sum of all numbers in the list ?"
      ],
      "metadata": {
        "id": "oMXEJLLcQSex"
      }
    },
    {
      "cell_type": "code",
      "source": [
        "def sum_of_events(numbers):\n",
        "  return sum(num for num in numbers if num % 2 == 0)"
      ],
      "metadata": {
        "id": "iLvtISiNRamh"
      },
      "execution_count": 6,
      "outputs": []
    },
    {
      "cell_type": "code",
      "source": [
        "nums =[1, 2, 3, 4, 5, 6]\n",
        "print(sum_of_events(nums))  # output: 12"
      ],
      "metadata": {
        "colab": {
          "base_uri": "https://localhost:8080/"
        },
        "id": "9QAEVBEPSL43",
        "outputId": "2b628276-2b54-4fcd-cd1a-f54ee615b49d"
      },
      "execution_count": 7,
      "outputs": [
        {
          "output_type": "stream",
          "name": "stdout",
          "text": [
            "12\n"
          ]
        }
      ]
    },
    {
      "cell_type": "markdown",
      "source": [
        "2. Create a python function that accepts a string and return the reverse of that string ?"
      ],
      "metadata": {
        "id": "rMmW8auhSbyI"
      }
    },
    {
      "cell_type": "code",
      "source": [
        "def reverse_string(string):\n",
        "  return string[::-1]"
      ],
      "metadata": {
        "id": "7KxmryQBTliY"
      },
      "execution_count": 8,
      "outputs": []
    },
    {
      "cell_type": "code",
      "source": [
        "print(reverse_string(\"Hello\"))  # ouput: \"olleh\""
      ],
      "metadata": {
        "colab": {
          "base_uri": "https://localhost:8080/"
        },
        "id": "K2UPhmlNT6Jh",
        "outputId": "955f9a6e-6eb8-4183-a389-88ba0bf02ecf"
      },
      "execution_count": 9,
      "outputs": [
        {
          "output_type": "stream",
          "name": "stdout",
          "text": [
            "olleH\n"
          ]
        }
      ]
    },
    {
      "cell_type": "markdown",
      "source": [
        "3. Impliment a Python function that takes list of interger and returns a new list containing the squares of each number ?"
      ],
      "metadata": {
        "id": "fTXUKFPZUKyE"
      }
    },
    {
      "cell_type": "code",
      "source": [
        "def square_numbers(numbers):\n",
        "  return [num ** 2 for num in numbers]"
      ],
      "metadata": {
        "id": "SGiFnZeIUqas"
      },
      "execution_count": 10,
      "outputs": []
    },
    {
      "cell_type": "code",
      "source": [
        "nums = [1, 2, 3, 4, 5]\n",
        "squared = square_numbers(nums)\n",
        "print(squared)  # output: [1, 4, 9, 16, 25]"
      ],
      "metadata": {
        "colab": {
          "base_uri": "https://localhost:8080/"
        },
        "id": "FsqTJO8jUxc4",
        "outputId": "9c90a941-4b12-49eb-af23-e9bb39600b32"
      },
      "execution_count": 11,
      "outputs": [
        {
          "output_type": "stream",
          "name": "stdout",
          "text": [
            "[1, 4, 9, 16, 25]\n"
          ]
        }
      ]
    },
    {
      "cell_type": "markdown",
      "source": [
        "4. Write a Python function that checks if a given number is prime or not from 1 to 200 ?"
      ],
      "metadata": {
        "id": "yR9QglX3U-sB"
      }
    },
    {
      "cell_type": "code",
      "source": [
        "def is_prime(n):\n",
        "  if n < 2:\n",
        "    return False\n",
        "  for i in range(2, int(n ** 0.5) + 1):\n",
        "    if n % i == 0:\n",
        "      return False\n",
        "  return True"
      ],
      "metadata": {
        "id": "naGaAEKOU9lR"
      },
      "execution_count": 12,
      "outputs": []
    },
    {
      "cell_type": "code",
      "source": [
        "for num in range(1, 201):\n",
        "  if is_prime(num):\n",
        "    print(f\"{num} is a prime number\")"
      ],
      "metadata": {
        "colab": {
          "base_uri": "https://localhost:8080/"
        },
        "id": "YHOdQ878VeQl",
        "outputId": "ec1581fe-cfba-468f-9328-894067228ff3"
      },
      "execution_count": 13,
      "outputs": [
        {
          "output_type": "stream",
          "name": "stdout",
          "text": [
            "2 is a prime number\n",
            "3 is a prime number\n",
            "5 is a prime number\n",
            "7 is a prime number\n",
            "11 is a prime number\n",
            "13 is a prime number\n",
            "17 is a prime number\n",
            "19 is a prime number\n",
            "23 is a prime number\n",
            "29 is a prime number\n",
            "31 is a prime number\n",
            "37 is a prime number\n",
            "41 is a prime number\n",
            "43 is a prime number\n",
            "47 is a prime number\n",
            "53 is a prime number\n",
            "59 is a prime number\n",
            "61 is a prime number\n",
            "67 is a prime number\n",
            "71 is a prime number\n",
            "73 is a prime number\n",
            "79 is a prime number\n",
            "83 is a prime number\n",
            "89 is a prime number\n",
            "97 is a prime number\n",
            "101 is a prime number\n",
            "103 is a prime number\n",
            "107 is a prime number\n",
            "109 is a prime number\n",
            "113 is a prime number\n",
            "127 is a prime number\n",
            "131 is a prime number\n",
            "137 is a prime number\n",
            "139 is a prime number\n",
            "149 is a prime number\n",
            "151 is a prime number\n",
            "157 is a prime number\n",
            "163 is a prime number\n",
            "167 is a prime number\n",
            "173 is a prime number\n",
            "179 is a prime number\n",
            "181 is a prime number\n",
            "191 is a prime number\n",
            "193 is a prime number\n",
            "197 is a prime number\n",
            "199 is a prime number\n"
          ]
        }
      ]
    },
    {
      "cell_type": "markdown",
      "source": [
        "5. Create an interator class in python that generates the Fibonacci sequence up tp a specified number of terms ?"
      ],
      "metadata": {
        "id": "UPcW024oV_sS"
      }
    },
    {
      "cell_type": "code",
      "source": [
        "from _typeshed import Self\n",
        "class fibonacciIterator:\n",
        "  def_init_(self, max_terms):\n",
        "    self.max_terms = max_terms\n",
        "    self.count = 0\n",
        "    self.a = 0\n",
        "    self.b = 1\n",
        "\n",
        " def_iter_(self):\n",
        "  return Self\n",
        "\n",
        "  def_next_(self):\n",
        "    if self.count > self.max_terms:\n",
        "      raise StopIteration\n",
        "    if self.count == 0:\n",
        "        self.count += 1\n",
        "        return self.a\n",
        "     elif self.count == 1:\n",
        "         self.count += 1\n",
        "         return self.b\n",
        "     else:\n",
        "      self,a, self.b = self.b, self.a + self.b\n",
        "      self.count += 1\n",
        "      return self.b"
      ],
      "metadata": {
        "colab": {
          "base_uri": "https://localhost:8080/",
          "height": 110
        },
        "id": "M4mcvWiGWZVk",
        "outputId": "3edfbdfa-53d8-48b3-aa70-e1f508a3de84"
      },
      "execution_count": 18,
      "outputs": [
        {
          "output_type": "error",
          "ename": "IndentationError",
          "evalue": "unindent does not match any outer indentation level (<tokenize>, line 9)",
          "traceback": [
            "\u001b[0;36m  File \u001b[0;32m\"<tokenize>\"\u001b[0;36m, line \u001b[0;32m9\u001b[0m\n\u001b[0;31m    def_iter_(self):\u001b[0m\n\u001b[0m    ^\u001b[0m\n\u001b[0;31mIndentationError\u001b[0m\u001b[0;31m:\u001b[0m unindent does not match any outer indentation level\n"
          ]
        }
      ]
    },
    {
      "cell_type": "code",
      "source": [
        "fib = fibonacciIterator(10)\n",
        "for num in fib:\n",
        "  print(num, end='  ')"
      ],
      "metadata": {
        "colab": {
          "base_uri": "https://localhost:8080/",
          "height": 182
        },
        "id": "ZiCVbc5iZlEa",
        "outputId": "d333787f-89c3-433e-c631-050b8d354d00"
      },
      "execution_count": 19,
      "outputs": [
        {
          "output_type": "error",
          "ename": "NameError",
          "evalue": "name 'fibonacciIterator' is not defined",
          "traceback": [
            "\u001b[0;31m---------------------------------------------------------------------------\u001b[0m",
            "\u001b[0;31mNameError\u001b[0m                                 Traceback (most recent call last)",
            "\u001b[0;32m/tmp/ipython-input-19-2175093083.py\u001b[0m in \u001b[0;36m<cell line: 0>\u001b[0;34m()\u001b[0m\n\u001b[0;32m----> 1\u001b[0;31m \u001b[0mfib\u001b[0m \u001b[0;34m=\u001b[0m \u001b[0mfibonacciIterator\u001b[0m\u001b[0;34m(\u001b[0m\u001b[0;36m10\u001b[0m\u001b[0;34m)\u001b[0m\u001b[0;34m\u001b[0m\u001b[0;34m\u001b[0m\u001b[0m\n\u001b[0m\u001b[1;32m      2\u001b[0m \u001b[0;32mfor\u001b[0m \u001b[0mnum\u001b[0m \u001b[0;32min\u001b[0m \u001b[0mfib\u001b[0m\u001b[0;34m:\u001b[0m\u001b[0;34m\u001b[0m\u001b[0;34m\u001b[0m\u001b[0m\n\u001b[1;32m      3\u001b[0m   \u001b[0mprint\u001b[0m\u001b[0;34m(\u001b[0m\u001b[0mnum\u001b[0m\u001b[0;34m,\u001b[0m \u001b[0mend\u001b[0m\u001b[0;34m=\u001b[0m\u001b[0;34m'  '\u001b[0m\u001b[0;34m)\u001b[0m\u001b[0;34m\u001b[0m\u001b[0;34m\u001b[0m\u001b[0m\n",
            "\u001b[0;31mNameError\u001b[0m: name 'fibonacciIterator' is not defined"
          ]
        }
      ]
    },
    {
      "cell_type": "markdown",
      "source": [
        "6. Wrute a generator function in Python that yields the powers of 2 up to a given exponent?"
      ],
      "metadata": {
        "id": "jOMIJcrKZxKZ"
      }
    },
    {
      "cell_type": "code",
      "source": [
        "def powers_of_two(max_exponent):\n",
        "  for exp in range(max_exponent  + 1):\n",
        "    yield 2 **exp"
      ],
      "metadata": {
        "id": "cqR9pBt1aHFt"
      },
      "execution_count": 20,
      "outputs": []
    },
    {
      "cell_type": "code",
      "source": [
        "for power in powers_of_two(5):\n",
        "  print(power)\n"
      ],
      "metadata": {
        "colab": {
          "base_uri": "https://localhost:8080/"
        },
        "id": "V1L_Z6U-aeCj",
        "outputId": "ac2b6cd0-c9f8-40a8-d300-94178ddddd61"
      },
      "execution_count": 21,
      "outputs": [
        {
          "output_type": "stream",
          "name": "stdout",
          "text": [
            "1\n",
            "2\n",
            "4\n",
            "8\n",
            "16\n",
            "32\n"
          ]
        }
      ]
    },
    {
      "cell_type": "markdown",
      "source": [
        "7. Implement a generator function that reads a file line by line and yields each line as a string ?"
      ],
      "metadata": {
        "id": "zM-SZWrcarvX"
      }
    },
    {
      "cell_type": "code",
      "source": [
        "def read_file_lines(filename):\n",
        "  with open(filename, 'r') as file:\n",
        "    for line in file:\n",
        "      yield line.strip('\\n')  # strips newline character"
      ],
      "metadata": {
        "id": "gYWedty8amM6"
      },
      "execution_count": 22,
      "outputs": []
    },
    {
      "cell_type": "code",
      "source": [
        "for line in read_file_lines(\"example.txt\"):\n",
        "  print(line)"
      ],
      "metadata": {
        "colab": {
          "base_uri": "https://localhost:8080/",
          "height": 273
        },
        "id": "qk4fKIxabJXK",
        "outputId": "dedc2d12-5246-4e68-f584-1cbd34e5f56c"
      },
      "execution_count": 24,
      "outputs": [
        {
          "output_type": "error",
          "ename": "FileNotFoundError",
          "evalue": "[Errno 2] No such file or directory: 'example.txt'",
          "traceback": [
            "\u001b[0;31m---------------------------------------------------------------------------\u001b[0m",
            "\u001b[0;31mFileNotFoundError\u001b[0m                         Traceback (most recent call last)",
            "\u001b[0;32m/tmp/ipython-input-24-654260688.py\u001b[0m in \u001b[0;36m<cell line: 0>\u001b[0;34m()\u001b[0m\n\u001b[0;32m----> 1\u001b[0;31m \u001b[0;32mfor\u001b[0m \u001b[0mline\u001b[0m \u001b[0;32min\u001b[0m \u001b[0mread_file_lines\u001b[0m\u001b[0;34m(\u001b[0m\u001b[0;34m\"example.txt\"\u001b[0m\u001b[0;34m)\u001b[0m\u001b[0;34m:\u001b[0m\u001b[0;34m\u001b[0m\u001b[0;34m\u001b[0m\u001b[0m\n\u001b[0m\u001b[1;32m      2\u001b[0m   \u001b[0mprint\u001b[0m\u001b[0;34m(\u001b[0m\u001b[0mline\u001b[0m\u001b[0;34m)\u001b[0m\u001b[0;34m\u001b[0m\u001b[0;34m\u001b[0m\u001b[0m\n",
            "\u001b[0;32m/tmp/ipython-input-22-2273307265.py\u001b[0m in \u001b[0;36mread_file_lines\u001b[0;34m(filename)\u001b[0m\n\u001b[1;32m      1\u001b[0m \u001b[0;32mdef\u001b[0m \u001b[0mread_file_lines\u001b[0m\u001b[0;34m(\u001b[0m\u001b[0mfilename\u001b[0m\u001b[0;34m)\u001b[0m\u001b[0;34m:\u001b[0m\u001b[0;34m\u001b[0m\u001b[0;34m\u001b[0m\u001b[0m\n\u001b[0;32m----> 2\u001b[0;31m   \u001b[0;32mwith\u001b[0m \u001b[0mopen\u001b[0m\u001b[0;34m(\u001b[0m\u001b[0mfilename\u001b[0m\u001b[0;34m,\u001b[0m \u001b[0;34m'r'\u001b[0m\u001b[0;34m)\u001b[0m \u001b[0;32mas\u001b[0m \u001b[0mfile\u001b[0m\u001b[0;34m:\u001b[0m\u001b[0;34m\u001b[0m\u001b[0;34m\u001b[0m\u001b[0m\n\u001b[0m\u001b[1;32m      3\u001b[0m     \u001b[0;32mfor\u001b[0m \u001b[0mline\u001b[0m \u001b[0;32min\u001b[0m \u001b[0mfile\u001b[0m\u001b[0;34m:\u001b[0m\u001b[0;34m\u001b[0m\u001b[0;34m\u001b[0m\u001b[0m\n\u001b[1;32m      4\u001b[0m       \u001b[0;32myield\u001b[0m \u001b[0mline\u001b[0m\u001b[0;34m.\u001b[0m\u001b[0mstrip\u001b[0m\u001b[0;34m(\u001b[0m\u001b[0;34m'\\n'\u001b[0m\u001b[0;34m)\u001b[0m  \u001b[0;31m# strips newline character\u001b[0m\u001b[0;34m\u001b[0m\u001b[0;34m\u001b[0m\u001b[0m\n",
            "\u001b[0;31mFileNotFoundError\u001b[0m: [Errno 2] No such file or directory: 'example.txt'"
          ]
        }
      ]
    },
    {
      "cell_type": "markdown",
      "source": [
        "Use a lambda function in python to sort of tuples based on the second element of each tuple ?"
      ],
      "metadata": {
        "id": "1fzSCz6abgx3"
      }
    },
    {
      "cell_type": "code",
      "source": [
        "# sample list of tuples\n",
        "data = [(3, 7), (1, 4), (2, 6), (5, 1)]\n",
        "# sort using lambda on the second element\n",
        "sorted_data = sorted(data, key=lambda x: x[1])\n",
        "print(sorted_data)"
      ],
      "metadata": {
        "colab": {
          "base_uri": "https://localhost:8080/"
        },
        "id": "Ek1jzN7vb2kz",
        "outputId": "1b71324a-6199-418c-d0a4-999a9643ba23"
      },
      "execution_count": 25,
      "outputs": [
        {
          "output_type": "stream",
          "name": "stdout",
          "text": [
            "[(5, 1), (1, 4), (2, 6), (3, 7)]\n"
          ]
        }
      ]
    },
    {
      "cell_type": "code",
      "source": [
        "[(5, 1), (1, 4), (2, 6), (3, 7)]"
      ],
      "metadata": {
        "colab": {
          "base_uri": "https://localhost:8080/"
        },
        "id": "E9OgQk5OcQY6",
        "outputId": "c059a437-7842-4e81-f4c0-3d0a5052a677"
      },
      "execution_count": 26,
      "outputs": [
        {
          "output_type": "execute_result",
          "data": {
            "text/plain": [
              "[(5, 1), (1, 4), (2, 6), (3, 7)]"
            ]
          },
          "metadata": {},
          "execution_count": 26
        }
      ]
    },
    {
      "cell_type": "markdown",
      "source": [
        "9. Wrute a Python program that uses map() to convert a list of temperatures from celsius to fahrenheit ?"
      ],
      "metadata": {
        "id": "4mVLKXeLce1u"
      }
    },
    {
      "cell_type": "code",
      "source": [
        "# function to convert celsius to fahrenheit\n",
        "def celsius_to_fahrenheit(c):\n",
        "  return (c * 9/5) + 32\n",
        "  # list of celsius temperarures\n",
        "  celsius_temps = [0, 20, 30, 37, 100]\n",
        "# using map() to apply the conversion\n",
        "  fahrenheit_temps = list(map(celsius_to_fahrenheit, celsius_temps))\n",
        "  print(fahrenheit_temps)"
      ],
      "metadata": {
        "id": "RiPqTpcLdDXp"
      },
      "execution_count": 28,
      "outputs": []
    },
    {
      "cell_type": "code",
      "source": [
        "[32.0, 68.0, 86.0, 98.6, 212.0]"
      ],
      "metadata": {
        "colab": {
          "base_uri": "https://localhost:8080/"
        },
        "id": "pIx1exvgdd-7",
        "outputId": "b4c722aa-bb47-4835-ec4a-6bb1dda42e07"
      },
      "execution_count": 29,
      "outputs": [
        {
          "output_type": "execute_result",
          "data": {
            "text/plain": [
              "[32.0, 68.0, 86.0, 98.6, 212.0]"
            ]
          },
          "metadata": {},
          "execution_count": 29
        }
      ]
    },
    {
      "cell_type": "code",
      "source": [
        "fahrenheit_temps = list(map(lambda c: (c * 9/5) + 32, celsius_temps))"
      ],
      "metadata": {
        "colab": {
          "base_uri": "https://localhost:8080/",
          "height": 146
        },
        "id": "Jq0-CnVVeMK_",
        "outputId": "da112240-f05a-4bd4-8940-88a5c89c4efd"
      },
      "execution_count": 33,
      "outputs": [
        {
          "output_type": "error",
          "ename": "NameError",
          "evalue": "name 'celsius_temps' is not defined",
          "traceback": [
            "\u001b[0;31m---------------------------------------------------------------------------\u001b[0m",
            "\u001b[0;31mNameError\u001b[0m                                 Traceback (most recent call last)",
            "\u001b[0;32m/tmp/ipython-input-33-775836670.py\u001b[0m in \u001b[0;36m<cell line: 0>\u001b[0;34m()\u001b[0m\n\u001b[0;32m----> 1\u001b[0;31m \u001b[0mfahrenheit_temps\u001b[0m \u001b[0;34m=\u001b[0m \u001b[0mlist\u001b[0m\u001b[0;34m(\u001b[0m\u001b[0mmap\u001b[0m\u001b[0;34m(\u001b[0m\u001b[0;32mlambda\u001b[0m \u001b[0mc\u001b[0m\u001b[0;34m:\u001b[0m \u001b[0;34m(\u001b[0m\u001b[0mc\u001b[0m \u001b[0;34m*\u001b[0m \u001b[0;36m9\u001b[0m\u001b[0;34m/\u001b[0m\u001b[0;36m5\u001b[0m\u001b[0;34m)\u001b[0m \u001b[0;34m+\u001b[0m \u001b[0;36m32\u001b[0m\u001b[0;34m,\u001b[0m \u001b[0mcelsius_temps\u001b[0m\u001b[0;34m)\u001b[0m\u001b[0;34m)\u001b[0m\u001b[0;34m\u001b[0m\u001b[0;34m\u001b[0m\u001b[0m\n\u001b[0m",
            "\u001b[0;31mNameError\u001b[0m: name 'celsius_temps' is not defined"
          ]
        }
      ]
    },
    {
      "cell_type": "markdown",
      "source": [
        "10. Create a python program that uses filter() to remove all the vowels from a given string ?"
      ],
      "metadata": {
        "id": "8CY3GsBtfIbG"
      }
    },
    {
      "cell_type": "code",
      "source": [
        "def remove_vowels(s):\n",
        "  vowels = 'aeiouAEIOU'\n",
        "  return ''.join(filter(lambda char: char not in vowels, s))\n",
        "# example usage\n",
        "text = \"hello world!\"\n",
        "result = remove_vowels(text)\n",
        "print(result) # output: \"hll, wrld!\""
      ],
      "metadata": {
        "colab": {
          "base_uri": "https://localhost:8080/"
        },
        "id": "lwc-jsbrfeoB",
        "outputId": "600a704f-7952-4e1e-c961-b86fee93c61a"
      },
      "execution_count": 35,
      "outputs": [
        {
          "output_type": "stream",
          "name": "stdout",
          "text": [
            "hll wrld!\n"
          ]
        }
      ]
    },
    {
      "cell_type": "markdown",
      "source": [
        "11. Imagine an accounting routine used in a book shop. it works on a list with sublists, which look like this ?"
      ],
      "metadata": {
        "id": "Dq3JGmPUjg-F"
      }
    },
    {
      "cell_type": "code",
      "source": [
        "orders =[\n",
        "    [34587,\"learning python,mark kutz\",4,40.95],\n",
        "    [98762,\"programming python,mark lutz\",5,56.80],\n",
        "    [77226,\"head first python,paul barry\",3,32.95],\n",
        "    [88112,\"einfuhrung in python3,bernd klein\",3,24.99]\n",
        "]\n",
        "\n",
        "result = list(map(lambda order: [order[0], order[1], order[2], order[3], order[2] * order[3]], orders))\n",
        "print(result)\n"
      ],
      "metadata": {
        "colab": {
          "base_uri": "https://localhost:8080/"
        },
        "id": "LcWcdBA1iUCy",
        "outputId": "fb3e984f-b71e-4903-e7a4-eadab05f1a8d"
      },
      "execution_count": 36,
      "outputs": [
        {
          "output_type": "stream",
          "name": "stdout",
          "text": [
            "[[34587, 'learning python,mark kutz', 4, 40.95, 163.8], [98762, 'programming python,mark lutz', 5, 56.8, 284.0], [77226, 'head first python,paul barry', 3, 32.95, 98.85000000000001], [88112, 'einfuhrung in python3,bernd klein', 3, 24.99, 74.97]]\n"
          ]
        }
      ]
    },
    {
      "cell_type": "code",
      "source": [],
      "metadata": {
        "id": "2JPBGL2AnQ2a"
      },
      "execution_count": null,
      "outputs": []
    }
  ]
}